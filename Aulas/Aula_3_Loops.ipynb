{
  "cells": [
    {
      "cell_type": "markdown",
      "metadata": {
        "id": "QCxxWc-KCawi"
      },
      "source": [
        "# <font color=yellow>**Conceitos a serem retomados**</font>"
      ]
    },
    {
      "cell_type": "markdown",
      "metadata": {
        "id": "8jzXrkZkCaxA"
      },
      "source": [
        "#### Operadores booleanos:\n",
        "\n",
        "* \"==\": igual a\n",
        "* \"!=\" : diferente a\n",
        "* \"<\" : menor que\n",
        "* \">\" : maior que\n",
        "* \"<=\" : menor ou igual a\n",
        "* \">=\" maior ou igual a\n",
        "\n",
        "#### Operadores Lógicos:\n",
        "\n",
        "* **and**: se, e somente se, ambas expressões estiverem corretas, o retorno será True\n",
        "* **or**: quando **pelo menos** uma das expressões for verdadeira, o retorno será True\n",
        "* **not**: inverte o retorno de uma expressão booleana. Se o retorno desta for True, o operador \"not\" fará o retorno ser False\n",
        "\n",
        "#### If, Elif e Else\n",
        "\n"
      ]
    },
    {
      "cell_type": "markdown",
      "metadata": {
        "id": "RbnnpyG7CaxE"
      },
      "source": [
        "# <font color=yellow>**Como rodar um programa .py no Jupyter Notebook?**</font>\n"
      ]
    },
    {
      "cell_type": "code",
      "execution_count": 1,
      "metadata": {
        "id": "9uvKFCHZCaxI"
      },
      "outputs": [
        {
          "name": "stdout",
          "output_type": "stream",
          "text": [
            "Programa 0 rodado com sucesso!\n"
          ]
        }
      ],
      "source": [
        "# !python nome_do_programa.py\n",
        "# !python programa_0.py\n",
        "\n",
        "print(\"Programa 0 rodado com sucesso!\")"
      ]
    },
    {
      "cell_type": "markdown",
      "metadata": {
        "id": "X_ZWKVQFCaxN"
      },
      "source": [
        "# <font color=yellow>**Como pegar um input do usuário?**</font>"
      ]
    },
    {
      "cell_type": "code",
      "execution_count": 2,
      "metadata": {
        "id": "NNFmxUHBCaxQ"
      },
      "outputs": [
        {
          "name": "stdout",
          "output_type": "stream",
          "text": [
            "O nome do usuário é: Leandro\n"
          ]
        }
      ],
      "source": [
        "name = input(\"Qual é seu nome? \")\n",
        "print(f'O nome do usuário é: {name}')"
      ]
    },
    {
      "cell_type": "markdown",
      "metadata": {
        "id": "gBZs8-dECaxT"
      },
      "source": [
        "# <font color=yellow>**Loops (Laços)**</font>"
      ]
    },
    {
      "cell_type": "markdown",
      "metadata": {
        "id": "CPhRv8wxCaxW"
      },
      "source": [
        "Suponha que quero fazer um programa que repete a mesma tarefa toda aula: falar boa tarde para cada um dos alunos presentes.\n",
        "\n",
        "Se eu tiver, 3 alunos, o meu programa deverá ser o seguinte:"
      ]
    },
    {
      "cell_type": "code",
      "execution_count": 3,
      "metadata": {
        "id": "ba3qHovDCaxZ"
      },
      "outputs": [
        {
          "name": "stdout",
          "output_type": "stream",
          "text": [
            "Boa tarde, fulano!\n",
            "Boa tarde, Alissa\n",
            "Boa tarde, Kevyn\n"
          ]
        }
      ],
      "source": [
        "# !python cat0.py \n",
        "\n",
        "# Demonstrates multiple (identical) function calls\n",
        "\n",
        "print(\"Boa tarde, fulano!\")\n",
        "print(\"Boa tarde, Alissa\")\n",
        "print(\"Boa tarde, Kevyn\")"
      ]
    },
    {
      "cell_type": "markdown",
      "metadata": {
        "id": "jbHueo2JCaxd"
      },
      "source": [
        "Mas começo a ter um problema para escrever este código se eu tiver 10, 20, 30 ... 100 alunos presentes.\n",
        "\n",
        "Porque preciso escrever o código <\"Boa tarde, **nome_d@_alun@**\"> 10, 20, 30 ... 100 vezes. Isso se torna impraticável, e por isso surge a necessidade da estruturas de repetição: <font color=yellow>**While e For**</font>"
      ]
    },
    {
      "cell_type": "markdown",
      "metadata": {
        "id": "rNJ2St-oCaxg"
      },
      "source": [
        "## While \n",
        "\n",
        "Estrutura de repetição que ocorre enquanto uma condição for verdadeira.\n",
        "\n",
        "![img1.jpg](./imagens/img1.jpg)"
      ]
    },
    {
      "cell_type": "code",
      "execution_count": 4,
      "metadata": {
        "id": "olspQyf1Caxi"
      },
      "outputs": [
        {
          "name": "stdout",
          "output_type": "stream",
          "text": [
            "3\n",
            "2\n",
            "1\n"
          ]
        }
      ],
      "source": [
        "# Exemplo de Loop while - contagem regressiva\n",
        "\n",
        "contador = 3\n",
        "\n",
        "while contador !=0 :\n",
        "    print(contador)\n",
        "    contador = contador - 1"
      ]
    },
    {
      "cell_type": "code",
      "execution_count": 5,
      "metadata": {
        "id": "DNsdJHMnCaxm"
      },
      "outputs": [
        {
          "name": "stdout",
          "output_type": "stream",
          "text": [
            "Boa tarde!\n",
            "Boa tarde!\n",
            "Boa tarde!\n"
          ]
        }
      ],
      "source": [
        "# !python cat1.py\n",
        "\n",
        "# Demonstrates a while loop, counting down\n",
        "\n",
        "i = 3\n",
        "while i != 0:\n",
        "    print(\"Boa tarde!\")\n",
        "    i = i - 1"
      ]
    },
    {
      "cell_type": "code",
      "execution_count": 6,
      "metadata": {
        "id": "67P7NwoRCaxs"
      },
      "outputs": [
        {
          "name": "stdout",
          "output_type": "stream",
          "text": [
            "1\n",
            "2\n",
            "3\n"
          ]
        }
      ],
      "source": [
        "# Exemplo de Loop while - contagem progressiva começando do 1\n",
        "\n",
        "contador = 1\n",
        "\n",
        "while contador <=3 :\n",
        "    print(contador)\n",
        "    contador = contador + 1"
      ]
    },
    {
      "cell_type": "code",
      "execution_count": 7,
      "metadata": {
        "id": "2cwvw4sPCaxu"
      },
      "outputs": [
        {
          "name": "stdout",
          "output_type": "stream",
          "text": [
            "Boa tarde!\n",
            "Boa tarde!\n",
            "Boa tarde!\n"
          ]
        }
      ],
      "source": [
        "# !python cat2.py\n",
        "\n",
        "# Demonstrates a while loop, counting up from 1\n",
        "\n",
        "i = 1\n",
        "while i <= 3:\n",
        "    print(\"Boa tarde!\")\n",
        "    i = i + 1"
      ]
    },
    {
      "cell_type": "code",
      "execution_count": 8,
      "metadata": {
        "id": "E_CtyJmWCaxv"
      },
      "outputs": [
        {
          "name": "stdout",
          "output_type": "stream",
          "text": [
            "0\n",
            "1\n",
            "2\n"
          ]
        }
      ],
      "source": [
        "# Exemplo de Loop while - contagem progressiva começando do 0\n",
        "contador = 0\n",
        "\n",
        "while contador < 3 :\n",
        "    print(contador)\n",
        "    contador = contador + 1"
      ]
    },
    {
      "cell_type": "code",
      "execution_count": 9,
      "metadata": {
        "id": "fkcAFdenCaxx"
      },
      "outputs": [
        {
          "name": "stdout",
          "output_type": "stream",
          "text": [
            "Boa tarde!\n",
            "Boa tarde!\n",
            "Boa tarde!\n"
          ]
        }
      ],
      "source": [
        "# !python cat3.py\n",
        "\n",
        "# Demonstrates a while loop, counting up from 0\n",
        "\n",
        "i = 0\n",
        "while i < 3:\n",
        "    print(\"Boa tarde!\")\n",
        "    i = i + 1"
      ]
    },
    {
      "cell_type": "markdown",
      "metadata": {
        "id": "wJ5gQWzfCaxz"
      },
      "source": [
        "#### Contador mais simples"
      ]
    },
    {
      "cell_type": "code",
      "execution_count": 10,
      "metadata": {
        "id": "wWExGk1PCax0"
      },
      "outputs": [
        {
          "name": "stdout",
          "output_type": "stream",
          "text": [
            "0\n",
            "1\n",
            "2\n"
          ]
        }
      ],
      "source": [
        "# Exemplo de Loop while - contagem progressiva começando do 0 e com contador mais simples\n",
        "contador = 0\n",
        "\n",
        "while contador < 3 :\n",
        "    print(contador)\n",
        "    contador +=  1\n",
        "    #contador -=1"
      ]
    },
    {
      "cell_type": "code",
      "execution_count": 11,
      "metadata": {
        "id": "n-iBnB0kCax2"
      },
      "outputs": [
        {
          "name": "stdout",
          "output_type": "stream",
          "text": [
            "Boa tarde!\n",
            "Boa tarde!\n",
            "Boa tarde!\n"
          ]
        }
      ],
      "source": [
        "# !python cat4.py\n",
        "\n",
        "# Demonstrates (more succinct) incrementation\n",
        "\n",
        "i = 0\n",
        "while i < 3:\n",
        "    print(\"Boa tarde!\")\n",
        "    i += 1"
      ]
    },
    {
      "cell_type": "markdown",
      "metadata": {
        "id": "_Jso9SJKCax3"
      },
      "source": [
        "#### Condições\n"
      ]
    },
    {
      "cell_type": "markdown",
      "metadata": {
        "id": "_B_gPsUZCax5"
      },
      "source": [
        "Suponha agora que eu só dou \"Boa tarde\" para quem me dá \"Boa tarde\"  primeiro, ou seja, eu só respondo boa tarde.\n",
        "\n",
        "Eu não sou proativa.\n",
        "\n",
        "Meu problema mudou, agora eu tenho que lidar com uma <font color=yellow>**condição!**</font>"
      ]
    },
    {
      "cell_type": "code",
      "execution_count": 12,
      "metadata": {
        "id": "AH6hTomhCax6"
      },
      "outputs": [],
      "source": [
        "numero_do_aluno = 3\n",
        "\n",
        "while numero_do_aluno !=0: \n",
        "    input_aluno = input(f\"O que @ alun@ {numero_do_aluno} falou para mim? \")\n",
        "\n",
        "    if input_aluno == \"Boa tarde, Thais!\":\n",
        "        print(f\"Boa tarde, alun@ {numero_do_aluno}!\")\n",
        "    else:\n",
        "        pass\n",
        "    \n",
        "    numero_do_aluno -= 1"
      ]
    },
    {
      "cell_type": "markdown",
      "metadata": {
        "id": "-ZIzF3n_Cax8"
      },
      "source": [
        "Mas e se eu estou sem paciência, e uma dos alunos não falaram \"Boa tarde!\" nem um \"Oi\"? Eu não vou esperar todos os alunos entrarem, eu simplesmente não vou dar \"Boa tarde\" para ninguém!\n",
        "\n",
        "Aqui entra o <font color=yellow>**break**</font>"
      ]
    },
    {
      "cell_type": "code",
      "execution_count": 13,
      "metadata": {
        "id": "SvMZa4sDCax9"
      },
      "outputs": [],
      "source": [
        "numero_do_aluno = 3\n",
        "\n",
        "while numero_do_aluno !=0: \n",
        "    input_aluno = input(f\"O que @ alun@ {numero_do_aluno} falou para mim? \")\n",
        "\n",
        "    if input_aluno == \"Boa tarde, Thais!\":\n",
        "        print(f\"Boa tarde, alun@ {numero_do_aluno}!\")\n",
        "    else:\n",
        "        break\n",
        "    \n",
        "    numero_do_aluno -= 1"
      ]
    },
    {
      "cell_type": "markdown",
      "metadata": {
        "id": "CP5k0TP6Cax-"
      },
      "source": [
        "### Ex. 01\n",
        "\n",
        "Printe os números pares até 51"
      ]
    },
    {
      "cell_type": "code",
      "execution_count": 14,
      "metadata": {
        "id": "BT-W7gXTCayF"
      },
      "outputs": [
        {
          "name": "stdout",
          "output_type": "stream",
          "text": [
            "0\n",
            "2\n",
            "4\n",
            "6\n",
            "8\n",
            "10\n",
            "12\n",
            "14\n",
            "16\n",
            "18\n",
            "20\n",
            "22\n",
            "24\n",
            "26\n",
            "28\n",
            "30\n",
            "32\n",
            "34\n",
            "36\n",
            "38\n",
            "40\n",
            "42\n",
            "44\n",
            "46\n",
            "48\n",
            "50\n"
          ]
        }
      ],
      "source": [
        "a = 0\n",
        "while a <= 51:\n",
        "    if a % 2 == 0:\n",
        "        print(a)\n",
        "    \n",
        "    a += 1"
      ]
    },
    {
      "cell_type": "code",
      "execution_count": 15,
      "metadata": {
        "id": "a_-36vYiCayG"
      },
      "outputs": [
        {
          "name": "stdout",
          "output_type": "stream",
          "text": [
            "[0, 2, 4, 6, 8, 10, 12, 14, 16, 18, 20, 22, 24, 26, 28, 30, 32, 34, 36, 38, 40, 42, 44, 46, 48, 50]\n"
          ]
        }
      ],
      "source": [
        "a = 0\n",
        "lista_par = []\n",
        "while a <= 51:\n",
        "    if a % 2 == 0:\n",
        "        lista_par.append(a)\n",
        "    \n",
        "    a += 1  \n",
        "print(lista_par)"
      ]
    },
    {
      "cell_type": "markdown",
      "metadata": {
        "id": "tOdNAxTSCayH"
      },
      "source": [
        "### Ex. 02\n",
        "\n",
        "Supondo que a população de um país A seja da ordem de 80k habitantes com uma taxa anual de crescimento de 3% e que a população de B seja 20k habitantes com uma taxa de crescimento de 1.5%. \n",
        "\n",
        "Faça um programa que calcula e retorna o número de anos necessários para que a população do país A ultrapasse ou iguale a população do país B, mantidas as taxas de crescimento constantes."
      ]
    },
    {
      "cell_type": "code",
      "execution_count": 16,
      "metadata": {
        "id": "5wQxCCD8CayJ"
      },
      "outputs": [
        {
          "name": "stdout",
          "output_type": "stream",
          "text": [
            "63\n",
            "515033.1028059676\n",
            "510964.4169622198\n"
          ]
        }
      ],
      "source": [
        "ano = 0\n",
        "pop_a = 80000\n",
        "pop_b = 200000\n",
        "tx_a = 0.03\n",
        "tx_b = 0.015\n",
        "\n",
        "while (pop_a < pop_b):\n",
        "    ano += 1\n",
        "    pop_a = pop_a * (1 + tx_a)\n",
        "    pop_b *= (1 + tx_b)\n",
        "    \n",
        "print(ano)\n",
        "print(pop_a)\n",
        "print(pop_b)"
      ]
    },
    {
      "cell_type": "markdown",
      "metadata": {
        "id": "7yjar3I6CayK"
      },
      "source": [
        "### Ex. 03\n",
        "\n",
        "Nesta tarefa você deverá criar uma lista de 10 itens (começando pelo 0). Sendo i a posição de um determinado elemento dentro da lista.\n",
        "\n",
        "* Se a posição i for par: o elemento nesta posição deverá ser preenchida de acordo com a regra => $x[i] = 3^i + 7*i$\n",
        "\n",
        "* Se a posição i for ímpar: o elemento nesta posição deverá ser preenchida de acordo com a regra => $x[i] = 3^i + 7(i - 2) + \\frac{i^2}{2}$"
      ]
    },
    {
      "cell_type": "code",
      "execution_count": 17,
      "metadata": {
        "id": "EkaPNYAmCayL"
      },
      "outputs": [
        {
          "name": "stdout",
          "output_type": "stream",
          "text": [
            "[1, -3.5, 23, 38.5, 109, 276.5, 771, 2246.5, 6617, 19772.5]\n"
          ]
        }
      ],
      "source": [
        "x = []\n",
        "i = 0\n",
        "while i < 10:\n",
        "    if i % 2 == 0:\n",
        "        xi = (3 ** i) + (7 * i)\n",
        "        x.append(xi)\n",
        "    else:\n",
        "        xi = (3**i) + (7 * (i - 2)) + (i ** 2)/2\n",
        "        x.append(xi)\n",
        "    \n",
        "    i+=1\n",
        "    \n",
        "print(x)"
      ]
    },
    {
      "cell_type": "markdown",
      "metadata": {
        "id": "xprJDGkGCayM"
      },
      "source": [
        "## For \n",
        "\n",
        "Estrutura de repetição na qual o número de vezes que aplicamos o loop é definido previamente (sem contador!)\n",
        "\n",
        "![image.png](attachment:image.png)"
      ]
    },
    {
      "cell_type": "code",
      "execution_count": 18,
      "metadata": {
        "id": "i9dTqM-TCayM",
        "scrolled": true
      },
      "outputs": [
        {
          "name": "stdout",
          "output_type": "stream",
          "text": [
            "1\n",
            "2\n",
            "FEA.Dev\n",
            "-4\n",
            "5.7\n",
            "6\n",
            "True\n"
          ]
        }
      ],
      "source": [
        "a = [1, 2, \"FEA.Dev\", -4, 5.7, 6, True]\n",
        "\n",
        "for i in a:\n",
        "    print(i,)"
      ]
    },
    {
      "cell_type": "code",
      "execution_count": 19,
      "metadata": {
        "id": "hdLALMCXCayN"
      },
      "outputs": [
        {
          "name": "stdout",
          "output_type": "stream",
          "text": [
            "Boa tarde, Thais!\n",
            "Boa tarde, Thais!\n",
            "Boa tarde, Thais!\n"
          ]
        }
      ],
      "source": [
        "# !python cat5.py\n",
        "\n",
        "# Demonstrates a for loop, using a list\n",
        "\n",
        "for i in [0, 1, 2]:\n",
        "    print(\"Boa tarde, Thais!\")"
      ]
    },
    {
      "cell_type": "markdown",
      "metadata": {
        "id": "A6FVGCu9CayO"
      },
      "source": [
        "Mas de novo, neste programa, eu tive que escrever \"por extenso\" em uma <font color=yellow>**lista**</font>, o número de vezes (neste nosso caso, número de alunos) que eu tive que dar \"Boa tarde!\"\n",
        "\n",
        "Neste caso, é possível usar uma função pré-existente (built-in do python), chamada <font color=yellow>**range**</font>"
      ]
    },
    {
      "cell_type": "markdown",
      "metadata": {
        "id": "cJHd83DWCayQ"
      },
      "source": [
        "#### Função range()  \n",
        "\n",
        "Esta função cria intervalos! Sua estrutura é a seguinte:\n",
        "\n",
        "* <font color=yellow>**range(início, final + 1, passo)**</font>"
      ]
    },
    {
      "cell_type": "code",
      "execution_count": 20,
      "metadata": {
        "id": "vA5HewHsCayR"
      },
      "outputs": [
        {
          "name": "stdout",
          "output_type": "stream",
          "text": [
            "[0, 1, 2, 3, 4, 5, 6, 7]\n"
          ]
        }
      ],
      "source": [
        "a = range(0, 8)\n",
        "print(list(a))"
      ]
    },
    {
      "cell_type": "markdown",
      "metadata": {
        "id": "KPs3oLh7CayS"
      },
      "source": [
        "O que é equivalente a:"
      ]
    },
    {
      "cell_type": "code",
      "execution_count": 21,
      "metadata": {
        "id": "J9oUwqRFCayS"
      },
      "outputs": [
        {
          "name": "stdout",
          "output_type": "stream",
          "text": [
            "[0, 1, 2, 3, 4, 5, 6, 7]\n"
          ]
        }
      ],
      "source": [
        "a = range(8)\n",
        "print(list(a))"
      ]
    },
    {
      "cell_type": "markdown",
      "metadata": {
        "id": "2QowVD75CayT"
      },
      "source": [
        "Utilizando intervalos:"
      ]
    },
    {
      "cell_type": "code",
      "execution_count": 22,
      "metadata": {
        "id": "KsidnXZYCayU"
      },
      "outputs": [
        {
          "name": "stdout",
          "output_type": "stream",
          "text": [
            "[0, 2, 4, 6, 8, 10, 12, 14, 16, 18, 20, 22, 24, 26, 28, 30, 32, 34, 36, 38, 40, 42, 44, 46, 48, 50, 52]\n"
          ]
        }
      ],
      "source": [
        "a = range(0, 53, 2)\n",
        "print(list(a))"
      ]
    },
    {
      "cell_type": "markdown",
      "metadata": {
        "id": "Zq6j5zRjCayV"
      },
      "source": [
        "Utilizando range no For loop:"
      ]
    },
    {
      "cell_type": "code",
      "execution_count": 23,
      "metadata": {
        "id": "j-WyQVAxCayV"
      },
      "outputs": [
        {
          "name": "stdout",
          "output_type": "stream",
          "text": [
            "Boa tarde, Thais!\n",
            "Boa tarde, Thais!\n",
            "Boa tarde, Thais!\n"
          ]
        }
      ],
      "source": [
        "# !python cat6.py\n",
        "\n",
        "# Demonstrates a for loop, using range\n",
        "\n",
        "for i in range(3):\n",
        "    print(\"Boa tarde, Thais!\")"
      ]
    },
    {
      "cell_type": "markdown",
      "metadata": {
        "id": "mYN89H4qCayW"
      },
      "source": [
        "#### Iterando por listas\n",
        "\n",
        "Propriedades gerais de listas:\n",
        "\n",
        "* Listas tem tamanho, o qual obtemos a partir do uso da função: <font color=yellow>**len()**</font>\n",
        "\n",
        "* Elementos das listas podem ser retornados a partir da utilização de índices entre colchetes: <font color=yellow>**lista[0]**</font>"
      ]
    },
    {
      "cell_type": "code",
      "execution_count": 24,
      "metadata": {
        "id": "Y1AJS4U0CayX"
      },
      "outputs": [
        {
          "data": {
            "text/plain": [
              "3"
            ]
          },
          "execution_count": 24,
          "metadata": {},
          "output_type": "execute_result"
        }
      ],
      "source": [
        "institutos = ['FEA', 'IME', 'FOFITO']\n",
        "len(institutos)"
      ]
    },
    {
      "cell_type": "markdown",
      "metadata": {
        "id": "TIqvpBHtCayY"
      },
      "source": [
        "Tivemos inscrições de muitos institutos e faculdades dentro da Cidade Universitária, então vamos trabalhar um pouco com eles agora!"
      ]
    },
    {
      "cell_type": "code",
      "execution_count": 25,
      "metadata": {
        "id": "h125c3a4CayZ"
      },
      "outputs": [
        {
          "name": "stdout",
          "output_type": "stream",
          "text": [
            "FEA\n",
            "IME\n",
            "FOFITO\n"
          ]
        }
      ],
      "source": [
        "institutos = ['FEA', 'IME', 'FOFITO']\n",
        "\n",
        "print(institutos[0])\n",
        "print(institutos[1])\n",
        "print(institutos[2])"
      ]
    },
    {
      "cell_type": "markdown",
      "metadata": {
        "id": "Ml54QzUFCayZ"
      },
      "source": [
        "Logo, podemos usar esta lista para obter os nomes dos institutos participantes:"
      ]
    },
    {
      "cell_type": "code",
      "execution_count": 26,
      "metadata": {
        "id": "jRg_Tw5xCaya"
      },
      "outputs": [
        {
          "name": "stdout",
          "output_type": "stream",
          "text": [
            "FEA\n",
            "IME\n",
            "FOFITO\n"
          ]
        }
      ],
      "source": [
        "# !python usp1.py\n",
        "\n",
        "# Demonstrates iterating over a list\n",
        "institutos = ['FEA', 'IME', 'FOFITO']\n",
        "\n",
        "for instituto in institutos:\n",
        "    print(instituto)"
      ]
    },
    {
      "cell_type": "markdown",
      "metadata": {
        "id": "yHdSIjkhCayb"
      },
      "source": [
        "Outra lógica possível, é utilizando os indíces [0, 1, 2 ...], para printar os nomes dos institutos da lista"
      ]
    },
    {
      "cell_type": "code",
      "execution_count": 27,
      "metadata": {
        "id": "HsNPMSUsCayc"
      },
      "outputs": [
        {
          "name": "stdout",
          "output_type": "stream",
          "text": [
            "1 FEA\n",
            "2 IME\n",
            "3 FOFITO\n"
          ]
        }
      ],
      "source": [
        "# !python usp2.py\n",
        "\n",
        "# Demonstrates iterating over and indexing into a list\n",
        "\n",
        "institutos = ['FEA', 'IME', 'FOFITO']\n",
        "\n",
        "for i in range(len(institutos)):\n",
        "    print(i + 1, institutos[i])"
      ]
    },
    {
      "cell_type": "markdown",
      "metadata": {
        "id": "_Bwak-a4Cayc"
      },
      "source": [
        "#### Iterando por dicionários\n",
        "\n",
        "Propriedades gerais de dicionários:\n",
        "\n",
        "* São criadas a partir de duas chaves: <font color=yellow>**dict_institutos = {}**</font>\n",
        "* Possuem uma chave ligada a um valor: <font color=yellow>**dict_institutos = {'FEA':'Ciências Socias'}**</font>\n",
        "* Os valores de cada chave podem ser retornados a partir de uma propriedade dos dicionários: <font color=yellow>**dict_institutos['FEA']**</font>"
      ]
    },
    {
      "cell_type": "code",
      "execution_count": 28,
      "metadata": {
        "id": "BTVF5i3eCayd"
      },
      "outputs": [],
      "source": [
        "dict_institutos = {\n",
        "    'FEA':'Ciências Socias', \n",
        "    'IME':'Ciências Exatas',\n",
        "    'FOFITO':'Ciências da Saúde'\n",
        "    }"
      ]
    },
    {
      "cell_type": "code",
      "execution_count": 29,
      "metadata": {
        "id": "EwFtg1hYCaye"
      },
      "outputs": [
        {
          "name": "stdout",
          "output_type": "stream",
          "text": [
            "Ciências Socias\n",
            "Ciências Exatas\n",
            "Ciências da Saúde\n"
          ]
        }
      ],
      "source": [
        "# !python usp3.py\n",
        "\n",
        "# Demonstrates indexing into a dict\n",
        "\n",
        "dict_institutos = {\n",
        "    'FEA':'Ciências Socias', \n",
        "    'IME':'Ciências Exatas',\n",
        "    'FOFITO':'Ciências da Saúde'\n",
        "    }\n",
        "\n",
        "print(dict_institutos[\"FEA\"])\n",
        "print(dict_institutos[\"IME\"])\n",
        "print(dict_institutos[\"FOFITO\"])"
      ]
    },
    {
      "cell_type": "markdown",
      "metadata": {
        "id": "x4nRgQMOCaye"
      },
      "source": [
        "Mas eu retornei só os valores de cada chave, sem saber qual era a chave em si... Para obter uma descrição mais completa dessas faculdades e institutos, posso usar uma <font color=yellow>**lista de dicionários**</font>"
      ]
    },
    {
      "cell_type": "code",
      "execution_count": 30,
      "metadata": {
        "id": "sifbxSjyCayf"
      },
      "outputs": [],
      "source": [
        "institutos = [\n",
        "    {\"Instituto\": \"FEA\", \"Ciências\": \"Sociais\", \"Cursos\": ['ADM', 'ECONO', 'ATU', 'CONT']},\n",
        "    {\"Instituto\": \"IME\", \"Ciências\": \"Exatas\", \"Cursos\": ['MAT', 'ESTAT', 'CS', 'LIC']},\n",
        "    {\"Instituto\": \"FOFITO\", \"Ciências\": \"da Saúde\", \"Cursos\": ['FISIO', 'FONO', 'TO']}\n",
        "]"
      ]
    },
    {
      "cell_type": "code",
      "execution_count": 31,
      "metadata": {
        "id": "wkLtHv88Cayg"
      },
      "outputs": [
        {
          "name": "stdout",
          "output_type": "stream",
          "text": [
            "O nome do Instituto/Faculdade é FEA. Esta faculdade atua na área de Ciências Sociais e possui os seguintes cursos: ['ADM', 'ECONO', 'ATU', 'CONT']\n",
            "O nome do Instituto/Faculdade é IME. Esta faculdade atua na área de Ciências Exatas e possui os seguintes cursos: ['MAT', 'ESTAT', 'CS', 'LIC']\n",
            "O nome do Instituto/Faculdade é FOFITO. Esta faculdade atua na área de Ciências da Saúde e possui os seguintes cursos: ['FISIO', 'FONO', 'TO']\n"
          ]
        }
      ],
      "source": [
        "# !python usp4.py\n",
        "\n",
        "# Demonstrates iterating over a list of dict objects\n",
        "\n",
        "institutos = [\n",
        "    {\"Instituto\": \"FEA\", \"Ciências\": \"Sociais\", \"Cursos\": ['ADM', 'ECONO', 'ATU', 'CONT']},\n",
        "    {\"Instituto\": \"IME\", \"Ciências\": \"Exatas\", \"Cursos\": ['MAT', 'ESTAT', 'CS', 'LIC']},\n",
        "    {\"Instituto\": \"FOFITO\", \"Ciências\": \"da Saúde\", \"Cursos\": ['FISIO', 'FONO', 'TO']}\n",
        "]\n",
        "\n",
        "for instituto in institutos:\n",
        "    print(f'O nome do Instituto/Faculdade é {instituto[\"Instituto\"]}. Esta faculdade atua na área de Ciências {instituto[\"Ciências\"]} e possui os seguintes cursos: {instituto[\"Cursos\"]}')"
      ]
    },
    {
      "cell_type": "markdown",
      "metadata": {
        "id": "SlVqnVb_Cayh"
      },
      "source": [
        "### Ex. 01\n",
        "\n",
        "A série de Fibonacci é formada pela sequência 0,1,1,2,3,5,8,13,21,34,55,... Faça um programa que gere a série até o 25º elemento da série de Fibonacci."
      ]
    },
    {
      "cell_type": "code",
      "execution_count": 32,
      "metadata": {
        "id": "DCvxwTegCayi",
        "scrolled": true
      },
      "outputs": [
        {
          "name": "stdout",
          "output_type": "stream",
          "text": [
            "[0, 1, 1]\n",
            "[0, 1, 1, 2]\n",
            "[0, 1, 1, 2, 3]\n",
            "[0, 1, 1, 2, 3, 5]\n",
            "[0, 1, 1, 2, 3, 5, 8]\n",
            "[0, 1, 1, 2, 3, 5, 8, 13]\n",
            "[0, 1, 1, 2, 3, 5, 8, 13, 21]\n",
            "[0, 1, 1, 2, 3, 5, 8, 13, 21, 34]\n",
            "[0, 1, 1, 2, 3, 5, 8, 13, 21, 34, 55]\n",
            "[0, 1, 1, 2, 3, 5, 8, 13, 21, 34, 55, 89]\n",
            "[0, 1, 1, 2, 3, 5, 8, 13, 21, 34, 55, 89, 144]\n",
            "[0, 1, 1, 2, 3, 5, 8, 13, 21, 34, 55, 89, 144, 233]\n",
            "[0, 1, 1, 2, 3, 5, 8, 13, 21, 34, 55, 89, 144, 233, 377]\n",
            "[0, 1, 1, 2, 3, 5, 8, 13, 21, 34, 55, 89, 144, 233, 377, 610]\n",
            "[0, 1, 1, 2, 3, 5, 8, 13, 21, 34, 55, 89, 144, 233, 377, 610, 987]\n",
            "[0, 1, 1, 2, 3, 5, 8, 13, 21, 34, 55, 89, 144, 233, 377, 610, 987, 1597]\n",
            "[0, 1, 1, 2, 3, 5, 8, 13, 21, 34, 55, 89, 144, 233, 377, 610, 987, 1597, 2584]\n",
            "[0, 1, 1, 2, 3, 5, 8, 13, 21, 34, 55, 89, 144, 233, 377, 610, 987, 1597, 2584, 4181]\n",
            "[0, 1, 1, 2, 3, 5, 8, 13, 21, 34, 55, 89, 144, 233, 377, 610, 987, 1597, 2584, 4181, 6765]\n",
            "[0, 1, 1, 2, 3, 5, 8, 13, 21, 34, 55, 89, 144, 233, 377, 610, 987, 1597, 2584, 4181, 6765, 10946]\n",
            "[0, 1, 1, 2, 3, 5, 8, 13, 21, 34, 55, 89, 144, 233, 377, 610, 987, 1597, 2584, 4181, 6765, 10946, 17711]\n",
            "[0, 1, 1, 2, 3, 5, 8, 13, 21, 34, 55, 89, 144, 233, 377, 610, 987, 1597, 2584, 4181, 6765, 10946, 17711, 28657]\n",
            "[0, 1, 1, 2, 3, 5, 8, 13, 21, 34, 55, 89, 144, 233, 377, 610, 987, 1597, 2584, 4181, 6765, 10946, 17711, 28657, 46368]\n",
            "[0, 1, 1, 2, 3, 5, 8, 13, 21, 34, 55, 89, 144, 233, 377, 610, 987, 1597, 2584, 4181, 6765, 10946, 17711, 28657, 46368]\n"
          ]
        }
      ],
      "source": [
        "fibo = [0, 1]\n",
        "for i in range(23):\n",
        "    x = fibo[-1] + fibo[-2]\n",
        "    fibo.append(x)\n",
        "    print(fibo)\n",
        "    \n",
        "print(fibo)"
      ]
    },
    {
      "cell_type": "markdown",
      "metadata": {
        "id": "pUXEJIYUCayj"
      },
      "source": [
        "### Ex. 02\n",
        "\n",
        "Nesta tarefa você deverá criar uma lista de 10 itens (começando pelo 0). Sendo i a posição de um determinado elemento dentro da lista.\n",
        "\n",
        "Se a posição i for par: o elemento nesta posição deverá ser preenchida de acordo com a regra: $x[i] = 3^i + 7*i$\n",
        "\n",
        "Se a posição i for ímpar: o elemento nesta posição deverá ser preenchida de acordo com a regra: $x[i] = 3^i + 7(i - 2) + \\frac{i^2}{2}$"
      ]
    },
    {
      "cell_type": "code",
      "execution_count": 33,
      "metadata": {
        "id": "IP6TAb5aCayk"
      },
      "outputs": [
        {
          "name": "stdout",
          "output_type": "stream",
          "text": [
            "[1, -3.5, 23, 38.5, 109, 276.5, 771, 2246.5, 6617, 19772.5]\n"
          ]
        }
      ],
      "source": [
        "x = []\n",
        "for i in range(0, 10):\n",
        "    if i % 2 == 0:\n",
        "        xi = (3 ** i) + (7 * i)\n",
        "        x.append(xi)\n",
        "    else:\n",
        "        xi = (3**i) + (7 * (i - 2)) + (i ** 2)/2\n",
        "        x.append(xi)\n",
        "    \n",
        "    \n",
        "print(x)"
      ]
    },
    {
      "cell_type": "code",
      "execution_count": 34,
      "metadata": {},
      "outputs": [
        {
          "name": "stdout",
          "output_type": "stream",
          "text": [
            "Teste de aula do git\n"
          ]
        }
      ],
      "source": [
        "print(\"Teste de aula do git\")"
      ]
    }
  ],
  "metadata": {
    "colab": {
      "provenance": []
    },
    "kernelspec": {
      "display_name": "Python 3 (ipykernel)",
      "language": "python",
      "name": "python3"
    },
    "language_info": {
      "codemirror_mode": {
        "name": "ipython",
        "version": 3
      },
      "file_extension": ".py",
      "mimetype": "text/x-python",
      "name": "python",
      "nbconvert_exporter": "python",
      "pygments_lexer": "ipython3",
      "version": "3.11.4"
    },
    "vscode": {
      "interpreter": {
        "hash": "3526c982b575d16b010eea53ce7f36ed04c2b2f3a7f8f3a1debc05f600b9cb3f"
      }
    }
  },
  "nbformat": 4,
  "nbformat_minor": 0
}
